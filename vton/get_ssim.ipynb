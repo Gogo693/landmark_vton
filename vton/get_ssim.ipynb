{
 "cells": [
  {
   "cell_type": "code",
   "execution_count": 2,
   "metadata": {},
   "outputs": [],
   "source": [
    "# Usage:\n",
    "#\n",
    "# python3 script.py --input original.png --output modified.png\n",
    "# Based on: https://github.com/mostafaGwely/Structural-Similarity-Index-SSIM-\n",
    "\n",
    "# 1. Import the necessary packages\n",
    "from skimage.measure import compare_ssim\n",
    "import argparse\n",
    "import imutils\n",
    "import cv2\n",
    "\n",
    "'''\n",
    "# 2. Construct the argument parse and parse the arguments\n",
    "ap = argparse.ArgumentParser()\n",
    "ap.add_argument(\"-f\", \"--first\", required=True, help=\"Directory of the image that will be compared\")\n",
    "ap.add_argument(\"-s\", \"--second\", required=True, help=\"Directory of the image that will be used to compare\")\n",
    "args = vars(ap.parse_args())\n",
    "\n",
    "# 3. Load the two input images\n",
    "imageA = cv2.imread(args[\"first\"])\n",
    "imageB = cv2.imread(args[\"second\"])\n",
    "'''\n",
    "\n",
    "import os\n",
    "\n",
    "def main():\n",
    "    target_dir = './Full_results/def_cpvton/try-on/'\n",
    "    gt_dir = './data/test/image/'\n",
    "\n",
    "    count = 0\n",
    "    tot_score = 0\n",
    "\n",
    "    for filename in os.listdir(target_dir):\n",
    "        imageA = cv2.imread(target_dir + filename)\n",
    "        imageB = cv2.imread(gt_dir + filename)\n",
    "\n",
    "        # 4. Convert the images to grayscale\n",
    "        grayA = cv2.cvtColor(imageA, cv2.COLOR_BGR2GRAY)\n",
    "        grayB = cv2.cvtColor(imageB, cv2.COLOR_BGR2GRAY)\n",
    "\n",
    "        # 5. Compute the Structural Similarity Index (SSIM) between the two\n",
    "        #    images, ensuring that the difference image is returned\n",
    "        (score, diff) = compare_ssim(grayA, grayB, full=True)\n",
    "        diff = (diff * 255).astype(\"uint8\")\n",
    "        count += 1\n",
    "        tot_score += score\n",
    "        #print(score)\n",
    "\n",
    "    score = tot_score / count\n",
    "\n",
    "    # 6. You can print only the score if you want\n",
    "    print(\"SSIM: {}\".format(score))\n"
   ]
  },
  {
   "cell_type": "code",
   "execution_count": 4,
   "metadata": {},
   "outputs": [
    {
     "name": "stderr",
     "output_type": "stream",
     "text": [
      "<ipython-input-2-91c3368cf989>:43: UserWarning: DEPRECATED: skimage.measure.compare_ssim has been moved to skimage.metrics.structural_similarity. It will be removed from skimage.measure in version 0.18.\n",
      "  (score, diff) = compare_ssim(grayA, grayB, full=True)\n"
     ]
    },
    {
     "name": "stdout",
     "output_type": "stream",
     "text": [
      "SSIM: 0.7064193906325877\n"
     ]
    }
   ],
   "source": [
    "main()"
   ]
  },
  {
   "cell_type": "code",
   "execution_count": null,
   "metadata": {},
   "outputs": [],
   "source": []
  }
 ],
 "metadata": {
  "kernelspec": {
   "display_name": "Python 3",
   "language": "python",
   "name": "python3"
  },
  "language_info": {
   "codemirror_mode": {
    "name": "ipython",
    "version": 3
   },
   "file_extension": ".py",
   "mimetype": "text/x-python",
   "name": "python",
   "nbconvert_exporter": "python",
   "pygments_lexer": "ipython3",
   "version": "3.8.5"
  }
 },
 "nbformat": 4,
 "nbformat_minor": 4
}
